{
 "cells": [
  {
   "cell_type": "markdown",
   "id": "b1300fce",
   "metadata": {
    "slideshow": {
     "slide_type": "subslide"
    }
   },
   "source": [
    "# COGS 18 Project: Single-Player Battleship\n",
    "### Grace Ortiz\n"
   ]
  },
  {
   "cell_type": "markdown",
   "id": "71263f9c",
   "metadata": {},
   "source": [
    "### Description:\n",
    "This project is a single-player, turn-based adaption of the classic game, Battleship. The player guesses coordinates on a shown board until they hit all the ships or miss a certain number of times. The number of ships and number of misses allowed are available for the player to change to their liking, but the default game is set to 12 allowed misses and 5 ships. The instructions are printed when the game is initiated, but for ease of access they are given here:\n",
    "\n",
    "\"Welcome to Battleship!  \n",
    "This is a single player, turn-based adaption of Battleship.  \n",
    "Battleship is strategic guessing game, where you must guess the location of your   \n",
    "opponent's ships by guessing coordinates on a blank grid. In this scenario, the ships are   \n",
    "randomly generated. After guessing a coordinate, it is either a hit or a miss. If you   \n",
    "hit a ship, the location will be marked on your board as a dark, square ship unit. If you   \n",
    "miss a ship, the location will be marked on your board as an 'O'. There are 5 ships in total   \n",
    "and each ship is 4 units long. None of the ships touch, so if you uncover a ship, it is safe to   \n",
    "assume that all surround sqaures do not contain any ships. You are allowed 12 misses, so \n",
    "choose your coordinates wisely!     \n",
    "If you would like to change the allowed number of misses or the number of ships generated    \n",
    "copy the following into the command line replacing the parentheses with an integer and press enter:   \n",
    "to change only the number of allowed misses: python my_script.py --misses (desired # of misses)   \n",
    "to change only the number of ships: python my_script.py --ships (desired # of ships)   \n",
    "to change both: python my_script.py --both (desired # of misses) (desired # of ships)   \n",
    "(For example: python my_script.py --both 15 4)   \n",
    "To quit the game type 'quit' into both the row input and the column input.\"   \n",
    "\n",
    "This game is not able to be run in a notebook, due to some interface issues with the built in input() function and will also run more smoothly in a terminal due to the use of ANSI escape codes. This project is based off of Pranjal Dev's Battleship [found here](https://copyassignment.com/battleship-game-code-in-python/), however my project is significantly modifed and different from Pranjal Dev's. "
   ]
  },
  {
   "cell_type": "markdown",
   "id": "8560f69e",
   "metadata": {},
   "source": [
    "To run in a terminal on Jupyterhub, make sure you are in the __FinalProject_COGS18_Wi23__ directory, and   \n",
    "copy __python my_script.py__ into the command line!"
   ]
  },
  {
   "cell_type": "markdown",
   "id": "81a5c92b",
   "metadata": {},
   "source": [
    "Test some functions by uncommenting the line below."
   ]
  },
  {
   "cell_type": "code",
   "execution_count": 5,
   "id": "593bfe0d",
   "metadata": {},
   "outputs": [],
   "source": [
    "#!pytest"
   ]
  },
  {
   "cell_type": "markdown",
   "id": "bb977c9d",
   "metadata": {},
   "source": [
    "### Extra Credit:\n",
    "\n",
    "I believe I deserve extra credit because I went beyond the asks of this project. I have had no prior experience to Python or any other languages, and I utilized many different things that were not covered in class, and expanded on things much further than they were covered in class. \n",
    "\n",
    "##### Some new things that I have learned during this project:\n",
    "- how to use argparse to parse command line arguments\n",
    "- the extend( ) method\n",
    "- cursor repostioning methods (and how many of them do not work in web-based interfaces)\n",
    "- clearing the output for different interfaces \n",
    "- for: else: and while: else: statements (while they are not used in the final version of my project, i used them extensively in earlier versions)\n",
    "\n",
    "##### Some things we briefly covered in class that I have a much better understanding of:\n",
    "- continue (and while loops altogether)\n",
    "- the join( ) method\n",
    "- the input function\n"
   ]
  },
  {
   "cell_type": "code",
   "execution_count": null,
   "id": "ef39ab9d",
   "metadata": {},
   "outputs": [],
   "source": []
  }
 ],
 "metadata": {
  "kernelspec": {
   "display_name": "Python 3 (clean)",
   "language": "python",
   "name": "python3_clean"
  },
  "language_info": {
   "codemirror_mode": {
    "name": "ipython",
    "version": 3
   },
   "file_extension": ".py",
   "mimetype": "text/x-python",
   "name": "python",
   "nbconvert_exporter": "python",
   "pygments_lexer": "ipython3",
   "version": "3.9.5"
  }
 },
 "nbformat": 4,
 "nbformat_minor": 5
}
